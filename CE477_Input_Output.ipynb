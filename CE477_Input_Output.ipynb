{
  "nbformat": 4,
  "nbformat_minor": 0,
  "metadata": {
    "colab": {
      "provenance": [],
      "authorship_tag": "ABX9TyPMCPuewRlHthubDMft4CLs",
      "include_colab_link": true
    },
    "kernelspec": {
      "name": "python3",
      "display_name": "Python 3"
    },
    "language_info": {
      "name": "python"
    }
  },
  "cells": [
    {
      "cell_type": "markdown",
      "metadata": {
        "id": "view-in-github",
        "colab_type": "text"
      },
      "source": [
        "<a href=\"https://colab.research.google.com/github/gliese876b/ce477_examples/blob/main/CE477_Input_Output.ipynb\" target=\"_parent\"><img src=\"https://colab.research.google.com/assets/colab-badge.svg\" alt=\"Open In Colab\"/></a>"
      ]
    },
    {
      "cell_type": "markdown",
      "source": [
        "**Importing the necessary libraries...**"
      ],
      "metadata": {
        "id": "IkxzYIJ5js9P"
      }
    },
    {
      "cell_type": "code",
      "execution_count": 25,
      "metadata": {
        "id": "4_6Y8BdCdk2J"
      },
      "outputs": [],
      "source": [
        "import pandas as pd\n",
        "import numpy as np\n",
        "import matplotlib.pyplot as plt"
      ]
    },
    {
      "cell_type": "markdown",
      "source": [
        "**Reading the data sets...**\n",
        "\n",
        "These are taken from [here](https://acikveri.bizizmir.com/tr/dataset/9d1878e2-1dfd-4a32-8de2-210b056a0647)."
      ],
      "metadata": {
        "id": "2As-LvqujyYN"
      }
    },
    {
      "cell_type": "code",
      "source": [
        "df_2018 = pd.read_csv('2018-wizmirnet-oturum_enc.csv', sep=',', encoding=\"iso-8859-9\")\n",
        "df_2019 = pd.read_csv('2019-wizmirnet-oturum_enc.csv', sep=',', encoding=\"iso-8859-9\")\n",
        "df_2020 = pd.read_csv('2020-wizmirnet-oturum_enc.csv', sep=',', encoding=\"iso-8859-9\")\n",
        "df_2021 = pd.read_csv('2021-wizmirnet-oturum_enc.csv', sep=',', encoding=\"iso-8859-9\")\n",
        "df_2022 = pd.read_csv('2022-wizmirnet-oturum_enc.csv', sep=',', encoding=\"iso-8859-9\")"
      ],
      "metadata": {
        "id": "wtT2Qjw3i7gI"
      },
      "execution_count": 26,
      "outputs": []
    },
    {
      "cell_type": "code",
      "source": [
        "print(df_2018)"
      ],
      "metadata": {
        "colab": {
          "base_uri": "https://localhost:8080/"
        },
        "id": "R7ciccZOj-gR",
        "outputId": "e8659246-a1e4-44b1-8237-9182eda1bccf"
      },
      "execution_count": 27,
      "outputs": [
        {
          "output_type": "stream",
          "name": "stdout",
          "text": [
            "           TARIH                          LOKASYON  OTURUM_SAYISI\n",
            "0     14.11.2018  Ahmed Adnan Saygun Sanat Merkezi              4\n",
            "1     14.11.2018               Ahmet Ferahlı Parkı             22\n",
            "2     14.11.2018          Aliağa Demokrasi Meydanı             20\n",
            "3     14.11.2018                     Atatürk Parkı             20\n",
            "4     14.11.2018      Aşık Veysel Rekreasyon Alanı             33\n",
            "...          ...                               ...            ...\n",
            "1892  31.12.2018                     Çeşme Meydanı            147\n",
            "1893  31.12.2018              Ödemiş Tayyare Parkı            321\n",
            "1894  31.12.2018      İnciraltı Engelliler Merkezi            103\n",
            "1895  31.12.2018     Şehit Polis Fethi Sekin Parkı            366\n",
            "1896  31.12.2018                    Şirinyer Parkı            461\n",
            "\n",
            "[1897 rows x 3 columns]\n"
          ]
        }
      ]
    },
    {
      "cell_type": "code",
      "source": [
        "df = pd.concat([df_2018, df_2019, df_2020, df_2021, df_2022])\n",
        "print(df)"
      ],
      "metadata": {
        "colab": {
          "base_uri": "https://localhost:8080/"
        },
        "id": "KFplgxlAkIUb",
        "outputId": "2f8e8c92-8754-4747-d7fb-9c28bc86e4c5"
      },
      "execution_count": 28,
      "outputs": [
        {
          "output_type": "stream",
          "name": "stdout",
          "text": [
            "            TARIH                          LOKASYON  OTURUM_SAYISI\n",
            "0      14.11.2018  Ahmed Adnan Saygun Sanat Merkezi              4\n",
            "1      14.11.2018               Ahmet Ferahlı Parkı             22\n",
            "2      14.11.2018          Aliağa Demokrasi Meydanı             20\n",
            "3      14.11.2018                     Atatürk Parkı             20\n",
            "4      14.11.2018      Aşık Veysel Rekreasyon Alanı             33\n",
            "...           ...                               ...            ...\n",
            "51825  31.07.2022              İhsan Alyanak Vapuru            109\n",
            "51826  31.07.2022      İnciraltı Engelliler Merkezi            456\n",
            "51827  31.07.2022                   İzmirspor Metro            141\n",
            "51828  31.07.2022     Şehit Polis Fethi Sekin Parkı            186\n",
            "51829  31.07.2022          Şirinyer Aktarma Merkezi            161\n",
            "\n",
            "[200453 rows x 3 columns]\n"
          ]
        }
      ]
    },
    {
      "cell_type": "code",
      "source": [
        "df['TARIH'] = pd.to_datetime(df['TARIH'], format='%d.%m.%Y')\n",
        "print(df.dtypes)"
      ],
      "metadata": {
        "colab": {
          "base_uri": "https://localhost:8080/"
        },
        "id": "OvqMHmDGl417",
        "outputId": "9c5d3be8-6b8c-4b44-db1e-33dc0bb55b45"
      },
      "execution_count": 29,
      "outputs": [
        {
          "output_type": "stream",
          "name": "stdout",
          "text": [
            "TARIH            datetime64[ns]\n",
            "LOKASYON                 object\n",
            "OTURUM_SAYISI             int64\n",
            "dtype: object\n"
          ]
        }
      ]
    },
    {
      "cell_type": "code",
      "source": [
        "df = df.pivot_table(values='OTURUM_SAYISI', index='TARIH', columns='LOKASYON')\n",
        "print(df)"
      ],
      "metadata": {
        "colab": {
          "base_uri": "https://localhost:8080/"
        },
        "id": "MJlpPGdImA7K",
        "outputId": "150eae83-3886-479f-b552-2609f6ec83b1"
      },
      "execution_count": 30,
      "outputs": [
        {
          "output_type": "stream",
          "name": "stdout",
          "text": [
            "LOKASYON    1881 Atatürk Vapuru  35ABT776  35AS8100  35AS8123  35AS816  \\\n",
            "TARIH                                                                    \n",
            "2018-11-14                  NaN       NaN       NaN       NaN      NaN   \n",
            "2018-11-15                  NaN       NaN       NaN       NaN      NaN   \n",
            "2018-11-16                  NaN       NaN       NaN       NaN      NaN   \n",
            "2018-11-17                  NaN       NaN       NaN       NaN      NaN   \n",
            "2018-11-18                  NaN       NaN       NaN       NaN      NaN   \n",
            "...                         ...       ...       ...       ...      ...   \n",
            "2022-07-27                 98.0       NaN       NaN       NaN     12.0   \n",
            "2022-07-28                 84.0       NaN       NaN       NaN      NaN   \n",
            "2022-07-29                 46.0       NaN       NaN       NaN      NaN   \n",
            "2022-07-30                 54.0       NaN       NaN       NaN      NaN   \n",
            "2022-07-31                 28.0       NaN       NaN       NaN      NaN   \n",
            "\n",
            "LOKASYON    35AS8166  35AS8296  35AS8307  35AV224  35BWM27  ...  \\\n",
            "TARIH                                                       ...   \n",
            "2018-11-14       NaN       NaN       NaN      NaN      NaN  ...   \n",
            "2018-11-15       NaN       NaN       NaN      NaN      NaN  ...   \n",
            "2018-11-16       NaN       NaN       NaN      NaN      NaN  ...   \n",
            "2018-11-17       NaN       NaN       NaN      NaN      NaN  ...   \n",
            "2018-11-18       NaN       NaN       NaN      NaN      NaN  ...   \n",
            "...              ...       ...       ...      ...      ...  ...   \n",
            "2022-07-27       NaN       NaN       NaN      NaN    186.0  ...   \n",
            "2022-07-28       NaN       NaN       NaN      NaN    150.0  ...   \n",
            "2022-07-29       NaN       NaN       NaN      NaN      0.0  ...   \n",
            "2022-07-30       NaN       NaN       NaN      NaN     48.0  ...   \n",
            "2022-07-31       NaN       NaN       NaN      NaN      0.0  ...   \n",
            "\n",
            "LOKASYON    Üçyol Aktarma Merkezi  Üçyol Metro  İhsan Alyanak Vapuru  \\\n",
            "TARIH                                                                  \n",
            "2018-11-14                    NaN          NaN                   NaN   \n",
            "2018-11-15                    NaN          NaN                   NaN   \n",
            "2018-11-16                    NaN          NaN                   NaN   \n",
            "2018-11-17                    NaN          NaN                   NaN   \n",
            "2018-11-18                    NaN          NaN                   NaN   \n",
            "...                           ...          ...                   ...   \n",
            "2022-07-27                  463.0         33.0                  11.0   \n",
            "2022-07-28                  483.0          4.0                  35.0   \n",
            "2022-07-29                  513.0        441.0                  52.0   \n",
            "2022-07-30                  445.0        526.0                 113.0   \n",
            "2022-07-31                  251.0        311.0                 109.0   \n",
            "\n",
            "LOKASYON    İnciraltı Engelliler Merkezi  İzmir Otogarı  İzmirspor Metro  \\\n",
            "TARIH                                                                      \n",
            "2018-11-14                           8.0            NaN              NaN   \n",
            "2018-11-15                          82.0            NaN              NaN   \n",
            "2018-11-16                         127.0            NaN              NaN   \n",
            "2018-11-17                          92.0            NaN              NaN   \n",
            "2018-11-18                          87.0            NaN              NaN   \n",
            "...                                  ...            ...              ...   \n",
            "2022-07-27                         296.0            NaN            360.0   \n",
            "2022-07-28                         297.0            NaN            308.0   \n",
            "2022-07-29                         286.0            NaN            253.0   \n",
            "2022-07-30                         391.0            NaN            235.0   \n",
            "2022-07-31                         456.0            NaN            141.0   \n",
            "\n",
            "LOKASYON    Şehit Astsubay Ömer Halisdemir Parkı  \\\n",
            "TARIH                                              \n",
            "2018-11-14                                   NaN   \n",
            "2018-11-15                                   NaN   \n",
            "2018-11-16                                   NaN   \n",
            "2018-11-17                                   NaN   \n",
            "2018-11-18                                   NaN   \n",
            "...                                          ...   \n",
            "2022-07-27                                   NaN   \n",
            "2022-07-28                                   NaN   \n",
            "2022-07-29                                   NaN   \n",
            "2022-07-30                                   NaN   \n",
            "2022-07-31                                   NaN   \n",
            "\n",
            "LOKASYON    Şehit Polis Fethi Sekin Parkı  Şirinyer Aktarma Merkezi  \\\n",
            "TARIH                                                                 \n",
            "2018-11-14                           43.0                       NaN   \n",
            "2018-11-15                          359.0                       NaN   \n",
            "2018-11-16                          362.0                       NaN   \n",
            "2018-11-17                          307.0                       NaN   \n",
            "2018-11-18                          202.0                       NaN   \n",
            "...                                   ...                       ...   \n",
            "2022-07-27                          383.0                     198.0   \n",
            "2022-07-28                          437.0                     187.0   \n",
            "2022-07-29                          389.0                     183.0   \n",
            "2022-07-30                          306.0                     153.0   \n",
            "2022-07-31                          186.0                     161.0   \n",
            "\n",
            "LOKASYON    Şirinyer Parkı  \n",
            "TARIH                       \n",
            "2018-11-14            36.0  \n",
            "2018-11-15           421.0  \n",
            "2018-11-16           406.0  \n",
            "2018-11-17           390.0  \n",
            "2018-11-18           389.0  \n",
            "...                    ...  \n",
            "2022-07-27             NaN  \n",
            "2022-07-28             NaN  \n",
            "2022-07-29             NaN  \n",
            "2022-07-30             NaN  \n",
            "2022-07-31             NaN  \n",
            "\n",
            "[1356 rows x 364 columns]\n"
          ]
        }
      ]
    },
    {
      "cell_type": "code",
      "source": [
        "upper_map = {\n",
        "    ord(u'ı'): u'I',\n",
        "    ord(u'i'): u'İ',\n",
        "    ord(u'ç'): u'Ç',\n",
        "    ord(u'ş'): u'Ş',\n",
        "    ord(u'ü'): u'Ü',\n",
        "    ord(u'ğ'): u'Ğ',\n",
        "    ord(u'ö'): u'Ö',\n",
        "}\n",
        "df.columns = df.columns.str.translate(upper_map)\n",
        "df.columns = df.columns.str.upper()"
      ],
      "metadata": {
        "id": "GsEqWqD2oYEi"
      },
      "execution_count": 31,
      "outputs": []
    },
    {
      "cell_type": "code",
      "source": [
        "def merge_into_one(df, cols):\n",
        "    for index, row in df.iterrows():\n",
        "        if row[cols].notna().any():\n",
        "            row[cols[0]] = row[cols].sum()\n",
        "    return df.drop(cols[1:], 1)\n",
        "\n",
        "# Merging similars\n",
        "df = merge_into_one(df, ['35ABT776', '?35ABT776'])\n",
        "df = merge_into_one(df, ['AHMET FERAHLI PARKI', 'SELCUK AHMET FERAHLI PARKI'])\n",
        "df = merge_into_one(df, ['ATİLLA İLHAN VAPURU', 'ATTİLA İLHAN VAPURU'])\n",
        "df = merge_into_one(df, ['AYTAÇ SEFİLOĞLU PARKI', 'NARLIDERE AYTAÇ SEFİLOĞLU PARKI'])\n",
        "df = merge_into_one(df, ['BAYRAKLI SAHİL', 'BAYRAKLI SAHİL KAFE'])\n",
        "df = merge_into_one(df, ['BUCA ŞİRİNYER PARKI', 'ŞİRİNYER PARKI'])\n",
        "df = merge_into_one(df, ['DİKİLİ 75. YIL PARKI', 'DİKİLİ 75.YIL PARKI'])\n",
        "df = merge_into_one(df, ['DİKİLİ ESENTEPE', 'DİKİLİ ESENTEPE KÖYÜ'])\n",
        "df = merge_into_one(df, ['DİKİLİ KATIRALAN', 'DİKİLİ KATIRALAN KÖYÜ'])\n",
        "df = merge_into_one(df, ['KEMALPAŞA HAMZA BABA KÖYÜ', 'KEMALPAŞA HAMZABABA KÖYÜ'])\n",
        "df = merge_into_one(df, ['KONAK PASAPORT MEYDAN', 'PASAPORT MEYDANI'])\n",
        "df = merge_into_one(df, ['MENDERES ŞEHİT AST. ÖMER HALİSDEMİR PARKI', 'ŞEHİT ASTSUBAY ÖMER HALİSDEMİR PARKI'])\n",
        "df = merge_into_one(df, ['TORBALI ORMANKÖY', 'TORBALI ORMANKÖY KÖYÜ'])"
      ],
      "metadata": {
        "colab": {
          "base_uri": "https://localhost:8080/"
        },
        "id": "mJg50M8yokim",
        "outputId": "b5b50c64-ade9-4951-e0d1-906610972007"
      },
      "execution_count": 32,
      "outputs": [
        {
          "output_type": "stream",
          "name": "stderr",
          "text": [
            "<ipython-input-32-402e62f2bfaf>:5: FutureWarning: In a future version of pandas all arguments of DataFrame.drop except for the argument 'labels' will be keyword-only.\n",
            "  return df.drop(cols[1:], 1)\n",
            "<ipython-input-32-402e62f2bfaf>:5: FutureWarning: In a future version of pandas all arguments of DataFrame.drop except for the argument 'labels' will be keyword-only.\n",
            "  return df.drop(cols[1:], 1)\n",
            "<ipython-input-32-402e62f2bfaf>:5: FutureWarning: In a future version of pandas all arguments of DataFrame.drop except for the argument 'labels' will be keyword-only.\n",
            "  return df.drop(cols[1:], 1)\n",
            "<ipython-input-32-402e62f2bfaf>:5: FutureWarning: In a future version of pandas all arguments of DataFrame.drop except for the argument 'labels' will be keyword-only.\n",
            "  return df.drop(cols[1:], 1)\n",
            "<ipython-input-32-402e62f2bfaf>:5: FutureWarning: In a future version of pandas all arguments of DataFrame.drop except for the argument 'labels' will be keyword-only.\n",
            "  return df.drop(cols[1:], 1)\n",
            "<ipython-input-32-402e62f2bfaf>:5: FutureWarning: In a future version of pandas all arguments of DataFrame.drop except for the argument 'labels' will be keyword-only.\n",
            "  return df.drop(cols[1:], 1)\n",
            "<ipython-input-32-402e62f2bfaf>:5: FutureWarning: In a future version of pandas all arguments of DataFrame.drop except for the argument 'labels' will be keyword-only.\n",
            "  return df.drop(cols[1:], 1)\n",
            "<ipython-input-32-402e62f2bfaf>:5: FutureWarning: In a future version of pandas all arguments of DataFrame.drop except for the argument 'labels' will be keyword-only.\n",
            "  return df.drop(cols[1:], 1)\n",
            "<ipython-input-32-402e62f2bfaf>:5: FutureWarning: In a future version of pandas all arguments of DataFrame.drop except for the argument 'labels' will be keyword-only.\n",
            "  return df.drop(cols[1:], 1)\n",
            "<ipython-input-32-402e62f2bfaf>:5: FutureWarning: In a future version of pandas all arguments of DataFrame.drop except for the argument 'labels' will be keyword-only.\n",
            "  return df.drop(cols[1:], 1)\n",
            "<ipython-input-32-402e62f2bfaf>:5: FutureWarning: In a future version of pandas all arguments of DataFrame.drop except for the argument 'labels' will be keyword-only.\n",
            "  return df.drop(cols[1:], 1)\n",
            "<ipython-input-32-402e62f2bfaf>:5: FutureWarning: In a future version of pandas all arguments of DataFrame.drop except for the argument 'labels' will be keyword-only.\n",
            "  return df.drop(cols[1:], 1)\n",
            "<ipython-input-32-402e62f2bfaf>:5: FutureWarning: In a future version of pandas all arguments of DataFrame.drop except for the argument 'labels' will be keyword-only.\n",
            "  return df.drop(cols[1:], 1)\n"
          ]
        }
      ]
    },
    {
      "cell_type": "code",
      "source": [
        "print(df.shape)"
      ],
      "metadata": {
        "colab": {
          "base_uri": "https://localhost:8080/"
        },
        "id": "wr7xFvo1ovUR",
        "outputId": "54d23374-422e-40f7-e88c-52a45f155b83"
      },
      "execution_count": 34,
      "outputs": [
        {
          "output_type": "stream",
          "name": "stdout",
          "text": [
            "(1356, 351)\n"
          ]
        }
      ]
    },
    {
      "cell_type": "code",
      "source": [
        "# add total column\n",
        "df['Total'] = df.sum(axis=1)\n",
        "\n",
        "ap_locations = set(df.columns)\n",
        "print(df.shape)\n",
        "print(\"Number of unique AP locations:\", len(ap_locations))\n",
        "\n",
        "df['NumberOfAPLocations'] = np.nan\n",
        "for i, row in df.iterrows():\n",
        "    row['NumberOfAPLocations'] = len(ap_locations) - (len(row[row.isna()]) - 1)\n",
        "\n",
        "# add the day of the week\n",
        "df[\"DayOfWeek\"] = df.index.weekday\n",
        "\n",
        "# sort by the date\n",
        "df.sort_index(inplace=True)\n",
        "\n",
        "print(df.head())\n",
        "print(df.shape)\n",
        "\n",
        "df.to_csv(\"all_wizmirnet_oturum.csv\", sep=',', encoding=\"iso-8859-9\")"
      ],
      "metadata": {
        "colab": {
          "base_uri": "https://localhost:8080/"
        },
        "id": "4N_jeRG0o5PA",
        "outputId": "26c40ab1-3dab-4089-87db-b211e00d96f4"
      },
      "execution_count": 36,
      "outputs": [
        {
          "output_type": "stream",
          "name": "stdout",
          "text": [
            "(1356, 354)\n",
            "Number of unique AP locations: 354\n",
            "LOKASYON    1881 ATATÜRK VAPURU  35ABT776  35AS8100  35AS8123  35AS816  \\\n",
            "TARIH                                                                    \n",
            "2018-11-14                  NaN       NaN       NaN       NaN      NaN   \n",
            "2018-11-15                  NaN       NaN       NaN       NaN      NaN   \n",
            "2018-11-16                  NaN       NaN       NaN       NaN      NaN   \n",
            "2018-11-17                  NaN       NaN       NaN       NaN      NaN   \n",
            "2018-11-18                  NaN       NaN       NaN       NaN      NaN   \n",
            "\n",
            "LOKASYON    35AS8166  35AS8296  35AS8307  35AV224  35BWM27  ...  ÜÇYOL METRO  \\\n",
            "TARIH                                                       ...                \n",
            "2018-11-14       NaN       NaN       NaN      NaN      NaN  ...          NaN   \n",
            "2018-11-15       NaN       NaN       NaN      NaN      NaN  ...          NaN   \n",
            "2018-11-16       NaN       NaN       NaN      NaN      NaN  ...          NaN   \n",
            "2018-11-17       NaN       NaN       NaN      NaN      NaN  ...          NaN   \n",
            "2018-11-18       NaN       NaN       NaN      NaN      NaN  ...          NaN   \n",
            "\n",
            "LOKASYON    İHSAN ALYANAK VAPURU  İNCİRALTI ENGELLİLER MERKEZİ  İZMİR OTOGARI  \\\n",
            "TARIH                                                                           \n",
            "2018-11-14                   NaN                           8.0            NaN   \n",
            "2018-11-15                   NaN                          82.0            NaN   \n",
            "2018-11-16                   NaN                         127.0            NaN   \n",
            "2018-11-17                   NaN                          92.0            NaN   \n",
            "2018-11-18                   NaN                          87.0            NaN   \n",
            "\n",
            "LOKASYON    İZMİRSPOR METRO  ŞEHİT POLİS FETHİ SEKİN PARKI  \\\n",
            "TARIH                                                        \n",
            "2018-11-14              NaN                           43.0   \n",
            "2018-11-15              NaN                          359.0   \n",
            "2018-11-16              NaN                          362.0   \n",
            "2018-11-17              NaN                          307.0   \n",
            "2018-11-18              NaN                          202.0   \n",
            "\n",
            "LOKASYON    ŞİRİNYER AKTARMA MERKEZİ    Total  NumberOfAPLocations  DayOfWeek  \n",
            "TARIH                                                                          \n",
            "2018-11-14                       NaN   2369.0                  NaN          2  \n",
            "2018-11-15                       NaN  26578.0                  NaN          3  \n",
            "2018-11-16                       NaN  27671.0                  NaN          4  \n",
            "2018-11-17                       NaN  22700.0                  NaN          5  \n",
            "2018-11-18                       NaN  16833.0                  NaN          6  \n",
            "\n",
            "[5 rows x 354 columns]\n",
            "(1356, 354)\n"
          ]
        }
      ]
    }
  ]
}